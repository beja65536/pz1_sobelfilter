{
 "cells": [
  {
   "cell_type": "markdown",
   "metadata": {},
   "source": [
    "# Pynq-Z1 HDMI Sobel Filter Demo\n",
    "\n",
    "* Signal Chain: HDMI In -> RGB-to-Grayscale -> Sobel Filter -> HDMI Out\n",
    "* HDMI In/Out Resolution: 1080x1920 with 24bit per pixel\n",
    "* Frame Rate: 32 frames per second\n",
    "* Repository: https://github.com/beja65536/pz1_sobelfilter\n",
    "* Based-on: http://www.wiki.xilinx.com/SDSoC+designs+and+platforms"
   ]
  },
  {
   "cell_type": "markdown",
   "metadata": {},
   "source": [
    "### Step 1: Install package"
   ]
  },
  {
   "cell_type": "code",
   "execution_count": null,
   "metadata": {
    "collapsed": true
   },
   "outputs": [],
   "source": [
    "!sudo -H pip install --upgrade 'https://github.com/beja65536/pz1_sobelfilter'"
   ]
  },
  {
   "cell_type": "markdown",
   "metadata": {},
   "source": [
    "### Step 2: Initialize Sobel filter and HDMI I/O"
   ]
  },
  {
   "cell_type": "code",
   "execution_count": 1,
   "metadata": {
    "collapsed": true
   },
   "outputs": [],
   "source": [
    "from pz1sofi import pz1sofi\n",
    "hw = pz1sofi()\n",
    "from pynq.drivers.video import HDMI\n",
    "hdmi_out = HDMI('out')\n",
    "hdmi_in = HDMI('in', init_timeout=10)\n",
    "hdmi_in.start()\n",
    "hdmi_out.start()"
   ]
  },
  {
   "cell_type": "markdown",
   "metadata": {},
   "source": [
    "### Step 3: Run OpenCV Sobel Filter"
   ]
  },
  {
   "cell_type": "code",
   "execution_count": null,
   "metadata": {
    "collapsed": true
   },
   "outputs": [],
   "source": [
    "import numpy as np\n",
    "import time\n",
    "import cv2\n",
    "num_frames = 10\n",
    "time1 = time.time()\n",
    "for i in range (num_frames):    \n",
    "    np_frame = (np.frombuffer(hdmi_in.frame_raw(), \n",
    "                             dtype=np.uint8)).reshape(1080,1920,3)\n",
    "    grad_x = cv2.Sobel(np_frame,cv2.CV_8U,1,0,ksize = 3, scale = 1, \n",
    "                       delta = 0,borderType = cv2.BORDER_DEFAULT)\n",
    "    grad_y = cv2.Sobel(np_frame,cv2.CV_8U,0,1,ksize = 3, scale = 1, \n",
    "                       delta = 0, borderType = cv2.BORDER_DEFAULT)\n",
    "    abs_grad_x = cv2.convertScaleAbs(grad_x)\n",
    "    abs_grad_y = cv2.convertScaleAbs(grad_y)\n",
    "    sobel_frame = cv2.addWeighted(abs_grad_x,0.5,abs_grad_y,0.5,0)\n",
    "    hdmi_out.frame_raw(bytearray(sobel_frame))\n",
    "time2 = time.time()\n",
    "print(\"OpenCV: {0:.2f} fps\".format(num_frames/(time2-time1)))"
   ]
  },
  {
   "cell_type": "markdown",
   "metadata": {},
   "source": [
    "### Step 4: Image Processing with hardware-accelerated Sobel filter"
   ]
  },
  {
   "cell_type": "code",
   "execution_count": 2,
   "metadata": {
    "collapsed": false
   },
   "outputs": [
    {
     "name": "stdout",
     "output_type": "stream",
     "text": [
      "SDSoC: 31.95 fps\n"
     ]
    }
   ],
   "source": [
    "fps = hw.sobel_filter(hw.get_frame_ptr(hdmi_in), hw.get_frame_ptr(hdmi_out),\n",
    "         num_frames=20, get_fps=True)\n",
    "print(\"SDSoC: {0:.2f} fps\".format(fps))"
   ]
  },
  {
   "cell_type": "markdown",
   "metadata": {},
   "source": [
    "### Step 5: Release Resources"
   ]
  },
  {
   "cell_type": "code",
   "execution_count": null,
   "metadata": {
    "collapsed": true
   },
   "outputs": [],
   "source": [
    "del edge_detect\n",
    "hdmi_out.stop()\n",
    "hdmi_in.stop()\n",
    "del hdmi_in\n",
    "del hdmi_out"
   ]
  }
 ],
 "metadata": {
  "anaconda-cloud": {},
  "kernelspec": {
   "display_name": "Python 3",
   "language": "python",
   "name": "python3"
  },
  "language_info": {
   "codemirror_mode": {
    "name": "ipython",
    "version": 3
   },
   "file_extension": ".py",
   "mimetype": "text/x-python",
   "name": "python",
   "nbconvert_exporter": "python",
   "pygments_lexer": "ipython3",
   "version": "3.4.3+"
  }
 },
 "nbformat": 4,
 "nbformat_minor": 0
}
