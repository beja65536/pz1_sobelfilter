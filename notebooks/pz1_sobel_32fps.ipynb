{
 "cells": [
  {
   "cell_type": "markdown",
   "metadata": {},
   "source": [
    "# Pynq-Z1 HDMI Sobel Filter Demo\n",
    "\n",
    "* Signal Chain: HDMI In -> RGB-to-Grayscale -> Sobel Filter -> HDMI Out \n",
    "* HDMI In/Out Resolution: 1080x1920 with 24bit per pixel\n",
    "* Frame Rate: 32 frames per second\n",
    "* Repository: https://github.com/beja65536/pz1_sobelfilter\n",
    "* Based-on: http://www.wiki.xilinx.com/SDSoC+designs+and+platforms"
   ]
  },
  {
   "cell_type": "markdown",
   "metadata": {},
   "source": [
    "### Install package"
   ]
  },
  {
   "cell_type": "code",
   "execution_count": 1,
   "metadata": {
    "collapsed": false
   },
   "outputs": [
    {
     "name": "stdout",
     "output_type": "stream",
     "text": [
      "Processing /home/testgit/pz1_sobelfilter\n",
      "Installing collected packages: pz1sofi\n",
      "  Running setup.py install for pz1sofi ... \u001b[?25l-\b \b\\\b \b|\b \b/\b \bdone\n",
      "\u001b[?25hSuccessfully installed pz1sofi-0.1\n"
     ]
    }
   ],
   "source": [
    "!sudo pip install --upgrade '/home/testgit/pz1_sobelfilter'"
   ]
  },
  {
   "cell_type": "markdown",
   "metadata": {},
   "source": [
    "### Step 1: Load Bitstream & Shared Library"
   ]
  },
  {
   "cell_type": "code",
   "execution_count": 3,
   "metadata": {
    "collapsed": false
   },
   "outputs": [],
   "source": [
    "from pynq import Overlay\n",
    "from pz1sofi.general_const import *\n",
    "Overlay(BITFILE).download()"
   ]
  },
  {
   "cell_type": "code",
   "execution_count": 4,
   "metadata": {
    "collapsed": false
   },
   "outputs": [],
   "source": [
    "import cffi\n",
    "sds = cffi.FFI()\n",
    "#Accelerator functions\n",
    "sds.cdef(\"void _p0_rgb_2_gray_0(uint8_t * input,\"+\n",
    "         \"uint8_t * output);\")\n",
    "sds.cdef(\"void _p0_sobel_filter_0(uint8_t * input,\"+\n",
    "         \"uint8_t * output);\")\n",
    "#XLNK functions\n",
    "sds.cdef(\"void *cma_alloc(uint32_t len, uint32_t cacheable);\")\n",
    "sds.cdef(\"void cma_free(void *buf);\")\n",
    "\n",
    "libsds = sds.dlopen(LIBRARY)"
   ]
  },
  {
   "cell_type": "markdown",
   "metadata": {},
   "source": [
    "### Step 2: Initialize HDMI I/O & Memory"
   ]
  },
  {
   "cell_type": "code",
   "execution_count": null,
   "metadata": {
    "collapsed": false
   },
   "outputs": [],
   "source": [
    "from pynq.drivers.video import HDMI\n",
    "hdmi_out = HDMI('out')\n",
    "hdmi_in = HDMI('in', init_timeout=10)\n",
    "hdmi_in.start()\n",
    "hdmi_out.start()"
   ]
  },
  {
   "cell_type": "code",
   "execution_count": null,
   "metadata": {
    "collapsed": false
   },
   "outputs": [],
   "source": [
    "frame_in = sds.cast(\"uint8_t *\",hdmi_in.frame_addr())\n",
    "frame_out = sds.cast(\"uint8_t *\",hdmi_out.frame_addr())\n",
    "frame_gray = sds.cast(\"uint8_t *\",libsds.cma_alloc(1920*1080,0))"
   ]
  },
  {
   "cell_type": "markdown",
   "metadata": {},
   "source": [
    "### Step 3: Run OpenCV Sobel Filter"
   ]
  },
  {
   "cell_type": "code",
   "execution_count": null,
   "metadata": {
    "collapsed": true
   },
   "outputs": [],
   "source": [
    "import numpy as np\n",
    "import time\n",
    "import cv2\n",
    "num_frames = 16"
   ]
  },
  {
   "cell_type": "code",
   "execution_count": null,
   "metadata": {
    "collapsed": true
   },
   "outputs": [],
   "source": [
    "#Sobel Filter\n",
    "time1 = time.time()\n",
    "for i in range (num_frames):    \n",
    "    np_frame = (np.frombuffer(hdmi_in.frame_raw(), \n",
    "                             dtype=np.uint8)).reshape(1080,1920,3)\n",
    "    grad_x = cv2.Sobel(np_frame,cv2.CV_8U,1,0,ksize = 3, scale = 1, \n",
    "                       delta = 0,borderType = cv2.BORDER_DEFAULT)\n",
    "    grad_y = cv2.Sobel(np_frame,cv2.CV_8U,0,1,ksize = 3, scale = 1, \n",
    "                       delta = 0, borderType = cv2.BORDER_DEFAULT)\n",
    "    abs_grad_x = cv2.convertScaleAbs(grad_x)\n",
    "    abs_grad_y = cv2.convertScaleAbs(grad_y)\n",
    "    sobel_frame = cv2.addWeighted(abs_grad_x,0.5,abs_grad_y,0.5,0)\n",
    "    hdmi_out.frame_raw(bytearray(sobel_frame))\n",
    "time2 = time.time()\n",
    "print(\"OpenCV: {0:.2f} fps\".format(num_frames/(time2-time1)))"
   ]
  },
  {
   "cell_type": "markdown",
   "metadata": {},
   "source": [
    "### Step 4: Run Hardware-accelerated Sobel Filter"
   ]
  },
  {
   "cell_type": "code",
   "execution_count": null,
   "metadata": {
    "collapsed": true
   },
   "outputs": [],
   "source": [
    "import time\n",
    "num_frames = 320"
   ]
  },
  {
   "cell_type": "code",
   "execution_count": null,
   "metadata": {
    "collapsed": false
   },
   "outputs": [],
   "source": [
    "time1 = time.time()\n",
    "for i in range(num_frames):\n",
    "    libsds._p0_rgb_2_gray_0(frame_in,frame_gray)\n",
    "    libsds._p0_sobel_filter_0(frame_gray,frame_out)\n",
    "time2 = time.time()\n",
    "print(\"SDSoC: {0:.2f} fps\".format(num_frames/(time2-time1)))"
   ]
  },
  {
   "cell_type": "markdown",
   "metadata": {},
   "source": [
    "### Step 5: Release Resources"
   ]
  },
  {
   "cell_type": "code",
   "execution_count": null,
   "metadata": {
    "collapsed": false
   },
   "outputs": [],
   "source": [
    "hdmi_out.stop()\n",
    "hdmi_in.stop()\n",
    "libsds.cma_free(frame_in)\n",
    "libsds.cma_free(frame_out)\n",
    "libsds.cma_free(frame_gray)\n",
    "del hdmi_in\n",
    "del hdmi_out"
   ]
  }
 ],
 "metadata": {
  "kernelspec": {
   "display_name": "Python 3",
   "language": "python",
   "name": "python3"
  },
  "language_info": {
   "codemirror_mode": {
    "name": "ipython",
    "version": 3
   },
   "file_extension": ".py",
   "mimetype": "text/x-python",
   "name": "python",
   "nbconvert_exporter": "python",
   "pygments_lexer": "ipython3",
   "version": "3.4.3+"
  }
 },
 "nbformat": 4,
 "nbformat_minor": 1
}
